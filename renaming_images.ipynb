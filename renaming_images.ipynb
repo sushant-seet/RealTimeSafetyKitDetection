{
 "cells": [
  {
   "cell_type": "code",
   "execution_count": 44,
   "metadata": {},
   "outputs": [],
   "source": [
    "import os"
   ]
  },
  {
   "cell_type": "code",
   "execution_count": 45,
   "metadata": {},
   "outputs": [
    {
     "data": {
      "text/plain": [
       "'D:\\\\RealTimeSafetyKit Detection'"
      ]
     },
     "execution_count": 45,
     "metadata": {},
     "output_type": "execute_result"
    }
   ],
   "source": [
    "os.getcwd()"
   ]
  },
  {
   "cell_type": "code",
   "execution_count": 63,
   "metadata": {},
   "outputs": [
    {
     "name": "stdout",
     "output_type": "stream",
     "text": [
      "Number of training images: 124\n",
      "Number of validation images: 32\n",
      "Split percentage: 26 %\n"
     ]
    }
   ],
   "source": [
    "print('Number of training images:', len(os.listdir(r\"data\\images\\train\")))\n",
    "print('Number of validation images:', len(os.listdir(r\"data\\images\\val\")))\n",
    "print('Split percentage: {:.0f} %'.format(100*(len(os.listdir(r\"data\\images\\val\"))/len(os.listdir(r\"data\\images\\train\")))))"
   ]
  },
  {
   "cell_type": "code",
   "execution_count": 65,
   "metadata": {},
   "outputs": [],
   "source": [
    "'''Rename Images in Train and Valid folder'''\n",
    "\n",
    "train_dir = \"data\\\\images\\\\train\\\\\"\n",
    "valid_dir = \"data\\\\images\\\\val\\\\\"\n",
    "\n",
    "def rename_images(path):\n",
    "    \n",
    "    for count, filename in enumerate(os.listdir(path)):\n",
    "        try :\n",
    "            dst = str(count + 1) + \".jpg\"\n",
    "            src = path + filename\n",
    "            dst = path + dst\n",
    "            os.rename(src, dst)\n",
    "        except:\n",
    "            print(\"An error occured for file {}. Check if destination file name already exists\".format(filename))\n",
    "            \n",
    "            \n",
    "rename_images(train_dir)\n",
    "rename_images(valid_dir)"
   ]
  },
  {
   "cell_type": "code",
   "execution_count": 66,
   "metadata": {},
   "outputs": [],
   "source": [
    "import torch"
   ]
  },
  {
   "cell_type": "code",
   "execution_count": null,
   "metadata": {},
   "outputs": [],
   "source": []
  }
 ],
 "metadata": {
  "kernelspec": {
   "display_name": "Python 3",
   "language": "python",
   "name": "python3"
  },
  "language_info": {
   "codemirror_mode": {
    "name": "ipython",
    "version": 3
   },
   "file_extension": ".py",
   "mimetype": "text/x-python",
   "name": "python",
   "nbconvert_exporter": "python",
   "pygments_lexer": "ipython3",
   "version": "3.8.3"
  }
 },
 "nbformat": 4,
 "nbformat_minor": 4
}
